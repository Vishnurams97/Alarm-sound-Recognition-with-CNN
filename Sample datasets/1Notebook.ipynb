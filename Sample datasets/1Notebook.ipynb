{
 "cells": [
  {
   "cell_type": "markdown",
   "metadata": {},
   "source": [
    "# Import Libraries"
   ]
  },
  {
   "cell_type": "code",
   "execution_count": 1,
   "metadata": {},
   "outputs": [
    {
     "name": "stderr",
     "output_type": "stream",
     "text": [
      "Using TensorFlow backend.\n"
     ]
    }
   ],
   "source": [
    "import librosa\n",
    "# import tensorflow as tf\n",
    "import scipy.io.wavfile as wav\n",
    "import librosa.display\n",
    "import matplotlib.pyplot as plt\n",
    "import pyaudio\n",
    "import time\n",
    "from sklearn.preprocessing import MinMaxScaler\n",
    "from sklearn.preprocessing import StandardScaler\n",
    "# from keras import backend as K\n",
    "from pydub import AudioSegment\n",
    "from pydub.playback import play\n",
    "import glob\n",
    "import keras\n",
    "from keras.layers import Activation, Dense, Dropout, Conv2D, \\\n",
    "                         Flatten, MaxPooling2D, BatchNormalization,LSTM\n",
    "import sounddevice as sd\n",
    "from keras.models import Sequential,load_model\n",
    "import librosa.util\n",
    "import numpy as np\n",
    "import pandas as pd\n",
    "import random\n",
    "import soundfile as sf\n",
    "from ann_visualizer.visualize import ann_viz\n",
    "from sklearn.model_selection import train_test_split\n",
    "%matplotlib inline\n",
    "np.random.seed(2)\n",
    "output_res = ['Alarm','Noise']"
   ]
  },
  {
   "cell_type": "code",
   "execution_count": 2,
   "metadata": {
    "collapsed": true
   },
   "outputs": [],
   "source": [
    "# y, sr = librosa.load('n3.wav', duration=4)\n",
    "# print(y.shape)\n",
    "# ps = librosa.feature.melspectrogram(y=y, sr=22050)\n",
    "# librosa.display.specshow(ps, y_axis='mel', x_axis='time')\n",
    "# ps = librosa.feature.melspectrogram(y=y, sr=sr)\n",
    "# ps.shape"
   ]
  },
  {
   "cell_type": "markdown",
   "metadata": {},
   "source": [
    "# Data_Preprocessing\n",
    "This involves loading the audio data to cache.\n",
    "This may take some minutes"
   ]
  },
  {
   "cell_type": "code",
   "execution_count": 9,
   "metadata": {},
   "outputs": [
    {
     "name": "stdout",
     "output_type": "stream",
     "text": [
      "Datasets_available: 756\n"
     ]
    }
   ],
   "source": [
    "D_cache = []\n",
    "count = 0\n",
    "for i in glob.iglob('*.wav'):\n",
    "    y,sr = librosa.load(i, duration=2.97)\n",
    "    ps = librosa.feature.melspectrogram(y=y, sr=sr)\n",
    "    D_cache.append(ps)\n",
    "    count+=1\n",
    "\n",
    "print('Datasets_available:',count)"
   ]
  },
  {
   "cell_type": "markdown",
   "metadata": {},
   "source": [
    "Reshaping the data such that it fits to the input of Convolutional Neural Network"
   ]
  },
  {
   "cell_type": "code",
   "execution_count": 10,
   "metadata": {},
   "outputs": [
    {
     "name": "stdout",
     "output_type": "stream",
     "text": [
      "(756, 128, 128, 1)\n"
     ]
    }
   ],
   "source": [
    "data_set = []\n",
    "scaler = StandardScaler()\n",
    "for data in D_cache:\n",
    "    data = scaler.fit_transform(data).reshape(128,128,1)\n",
    "    data_set.append(data)\n",
    "    \n",
    "data_set = np.asarray(data_set)\n",
    "\n",
    "print(data_set.shape)"
   ]
  },
  {
   "cell_type": "code",
   "execution_count": 11,
   "metadata": {},
   "outputs": [
    {
     "data": {
      "text/plain": [
       "(756, 128, 128, 1)"
      ]
     },
     "execution_count": 11,
     "metadata": {},
     "output_type": "execute_result"
    }
   ],
   "source": [
    "data_set = np.array([x.reshape( (128, 128, 1) ) for x in data_set])\n",
    "data_set.shape"
   ]
  },
  {
   "cell_type": "markdown",
   "metadata": {},
   "source": [
    "Here the datasets or samples are labeled with its name.\n",
    "Samples that start with 'd' are Beep sounds and those starting with 'n' are environmental sounds\n",
    "When the sample name starts with 'd', the network is forced to fit with output (1,0) and when it is 'n' then the label is (0,1)"
   ]
  },
  {
   "cell_type": "code",
   "execution_count": 12,
   "metadata": {},
   "outputs": [
    {
     "data": {
      "text/plain": [
       "756"
      ]
     },
     "execution_count": 12,
     "metadata": {},
     "output_type": "execute_result"
    }
   ],
   "source": [
    "labels = []\n",
    "for file in glob.iglob('*.wav'):\n",
    "    if(file[0]=='n'):\n",
    "        labels.append([0,1])\n",
    "    elif(file[0]=='d'):\n",
    "        labels.append([1,0])\n",
    "labels = np.asarray(labels)\n",
    "len(labels)"
   ]
  },
  {
   "cell_type": "markdown",
   "metadata": {},
   "source": [
    "# Test_Train_Split"
   ]
  },
  {
   "cell_type": "code",
   "execution_count": 13,
   "metadata": {
    "collapsed": true
   },
   "outputs": [],
   "source": [
    "X_train, X_test, y_train, y_test = train_test_split(\n",
    "    data_set, labels, test_size=0.33,random_state = 42)"
   ]
  },
  {
   "cell_type": "code",
   "execution_count": 20,
   "metadata": {
    "collapsed": true
   },
   "outputs": [],
   "source": [
    "# #To see output in each layer\n",
    "# outputs = [layer.output for layer in model.layers]"
   ]
  },
  {
   "cell_type": "markdown",
   "metadata": {},
   "source": [
    "This is the proposed CNN model for predicting the Beep Alarm sounds. This may need some changes such as adding a network layer, increasing the number of nodes in a layer, optimising method, etc based on the use case."
   ]
  },
  {
   "cell_type": "code",
   "execution_count": 14,
   "metadata": {},
   "outputs": [
    {
     "name": "stdout",
     "output_type": "stream",
     "text": [
      "_________________________________________________________________\n",
      "Layer (type)                 Output Shape              Param #   \n",
      "=================================================================\n",
      "conv2d_1 (Conv2D)            (None, 124, 124, 4)       104       \n",
      "_________________________________________________________________\n",
      "max_pooling2d_1 (MaxPooling2 (None, 31, 31, 4)         0         \n",
      "_________________________________________________________________\n",
      "activation_1 (Activation)    (None, 31, 31, 4)         0         \n",
      "_________________________________________________________________\n",
      "conv2d_2 (Conv2D)            (None, 27, 27, 1)         101       \n",
      "_________________________________________________________________\n",
      "max_pooling2d_2 (MaxPooling2 (None, 6, 6, 1)           0         \n",
      "_________________________________________________________________\n",
      "activation_2 (Activation)    (None, 6, 6, 1)           0         \n",
      "_________________________________________________________________\n",
      "flatten_1 (Flatten)          (None, 36)                0         \n",
      "_________________________________________________________________\n",
      "dense_1 (Dense)              (None, 6)                 222       \n",
      "_________________________________________________________________\n",
      "activation_3 (Activation)    (None, 6)                 0         \n",
      "_________________________________________________________________\n",
      "dense_2 (Dense)              (None, 2)                 14        \n",
      "_________________________________________________________________\n",
      "activation_4 (Activation)    (None, 2)                 0         \n",
      "=================================================================\n",
      "Total params: 441\n",
      "Trainable params: 441\n",
      "Non-trainable params: 0\n",
      "_________________________________________________________________\n"
     ]
    }
   ],
   "source": [
    "model = Sequential()\n",
    "input_shape=(128, 128, 1)\n",
    "\n",
    "model.add(Conv2D(4, (5, 5), strides=(1, 1), input_shape=input_shape))\n",
    "model.add(MaxPooling2D((4, 4)))\n",
    "model.add(Activation('relu'))\n",
    "\n",
    "model.add(Conv2D(1, (5, 5), padding=\"valid\"))\n",
    "model.add(MaxPooling2D((4, 4)))\n",
    "model.add(Activation('relu'))\n",
    "\n",
    "model.add(Flatten())\n",
    "\n",
    "model.add(Dense(6))\n",
    "# model.add(Activation('sigmoid'))\n",
    "model.add(Activation('relu'))\n",
    "\n",
    "# model.add(Dense(4))\n",
    "# model.add(Activation('relu'))\n",
    "# model.add(Activation('sigmoid'))\n",
    "\n",
    "model.add(Dense(2))\n",
    "model.add(Activation('sigmoid'))\n",
    "model.summary()"
   ]
  },
  {
   "cell_type": "markdown",
   "metadata": {},
   "source": [
    "To visualize the model use this function. This is Cool :D"
   ]
  },
  {
   "cell_type": "code",
   "execution_count": 17,
   "metadata": {
    "collapsed": true
   },
   "outputs": [],
   "source": [
    "# # model = []\n",
    "ann_viz(model)"
   ]
  },
  {
   "cell_type": "markdown",
   "metadata": {},
   "source": [
    "## Here comes the main part, Training the model and testing to analyse the Accuracy.\n",
    "Note: In case of unbalanced data we need F1 score as well."
   ]
  },
  {
   "cell_type": "code",
   "execution_count": 18,
   "metadata": {},
   "outputs": [
    {
     "name": "stdout",
     "output_type": "stream",
     "text": [
      "Train on 506 samples, validate on 250 samples\n",
      "Epoch 1/15\n",
      "506/506 [==============================] - 10s 20ms/step - loss: 0.4875 - acc: 0.7312 - val_loss: 0.3584 - val_acc: 0.7900\n",
      "Epoch 2/15\n",
      "506/506 [==============================] - 7s 15ms/step - loss: 0.4098 - acc: 0.7668 - val_loss: 0.3170 - val_acc: 0.8180\n",
      "Epoch 3/15\n",
      "506/506 [==============================] - 8s 15ms/step - loss: 0.3650 - acc: 0.7875 - val_loss: 0.2919 - val_acc: 0.8300\n",
      "Epoch 4/15\n",
      "506/506 [==============================] - 8s 16ms/step - loss: 0.3354 - acc: 0.8123 - val_loss: 0.2706 - val_acc: 0.8480\n",
      "Epoch 5/15\n",
      "506/506 [==============================] - 8s 15ms/step - loss: 0.3100 - acc: 0.8409 - val_loss: 0.2531 - val_acc: 0.8860\n",
      "Epoch 6/15\n",
      "506/506 [==============================] - 7s 14ms/step - loss: 0.2884 - acc: 0.8656 - val_loss: 0.2368 - val_acc: 0.9160\n",
      "Epoch 7/15\n",
      "506/506 [==============================] - 8s 15ms/step - loss: 0.2697 - acc: 0.8943 - val_loss: 0.2223 - val_acc: 0.9440\n",
      "Epoch 8/15\n",
      "506/506 [==============================] - 8s 15ms/step - loss: 0.2487 - acc: 0.9180 - val_loss: 0.2075 - val_acc: 0.9440\n",
      "Epoch 9/15\n",
      "506/506 [==============================] - 7s 14ms/step - loss: 0.2203 - acc: 0.9387 - val_loss: 0.1870 - val_acc: 0.9460\n",
      "Epoch 10/15\n",
      "506/506 [==============================] - 8s 15ms/step - loss: 0.1953 - acc: 0.9536 - val_loss: 0.1664 - val_acc: 0.9440\n",
      "Epoch 11/15\n",
      "506/506 [==============================] - 8s 15ms/step - loss: 0.1685 - acc: 0.9615 - val_loss: 0.1474 - val_acc: 0.9540\n",
      "Epoch 12/15\n",
      "506/506 [==============================] - 8s 16ms/step - loss: 0.1475 - acc: 0.9634 - val_loss: 0.1335 - val_acc: 0.9560\n",
      "Epoch 13/15\n",
      "506/506 [==============================] - 8s 16ms/step - loss: 0.1311 - acc: 0.9694 - val_loss: 0.1214 - val_acc: 0.9760\n",
      "Epoch 14/15\n",
      "506/506 [==============================] - 8s 16ms/step - loss: 0.1210 - acc: 0.9723 - val_loss: 0.1149 - val_acc: 0.9740\n",
      "Epoch 15/15\n",
      "506/506 [==============================] - 8s 16ms/step - loss: 0.1109 - acc: 0.9723 - val_loss: 0.1096 - val_acc: 0.9740\n",
      "250/250 [==============================] - 2s 8ms/step\n",
      "dict_keys(['val_loss', 'val_acc', 'loss', 'acc'])\n"
     ]
    },
    {
     "data": {
      "image/png": "[encoded data removed]",
      "text/plain": [
       "<Figure size 432x288 with 1 Axes>"
      ]
     },
     "metadata": {},
     "output_type": "display_data"
    },
    {
     "data": {
      "image/png": "[encoded data removed]",
      "text/plain": [
       "<Figure size 432x288 with 1 Axes>"
      ]
     },
     "metadata": {},
     "output_type": "display_data"
    },
    {
     "name": "stdout",
     "output_type": "stream",
     "text": [
      "Test loss: 0.109594209075\n",
      "Test accuracy: 0.974\n"
     ]
    }
   ],
   "source": [
    "model.compile(\n",
    "            optimizer=\"Adam\",\n",
    "            loss=\"binary_crossentropy\",\n",
    "            metrics=['accuracy'])\n",
    "\n",
    "history = model.fit(\n",
    "        x=X_train, \n",
    "        y=y_train,\n",
    "        epochs=15,\n",
    "        batch_size=15,\n",
    "        validation_data= (X_test, y_test))\n",
    "\n",
    "score = model.evaluate(\n",
    "        x=X_test,\n",
    "        y=y_test)\n",
    "\n",
    "print(history.history.keys())\n",
    "# summarize history for accuracy\n",
    "plt.plot(history.history['acc'])\n",
    "plt.plot(history.history['val_acc'])\n",
    "plt.title('model accuracy')\n",
    "plt.ylabel('accuracy')\n",
    "plt.xlabel('epoch')\n",
    "plt.legend(['train', 'test'], loc='upper left')\n",
    "plt.show()\n",
    "# summarize history for loss\n",
    "plt.plot(history.history['loss'])\n",
    "plt.plot(history.history['val_loss'])\n",
    "plt.title('model loss')\n",
    "plt.ylabel('loss')\n",
    "plt.xlabel('epoch')\n",
    "plt.legend(['train', 'test'], loc='upper left')\n",
    "plt.show()\n",
    "print('Test loss:', score[0])\n",
    "print('Test accuracy:', score[1])"
   ]
  },
  {
   "cell_type": "markdown",
   "metadata": {},
   "source": [
    "The model's Accuracy is 97%. Hurray!!"
   ]
  },
  {
   "cell_type": "code",
   "execution_count": 19,
   "metadata": {
    "collapsed": true
   },
   "outputs": [],
   "source": [
    "model.save('cnn_model.h5')\n",
    "# model = load_model('my_model.h5')\n",
    "# model.save_weights('my_model_weights.h5')\n",
    "# model.load_weights('my_model_weights.h5')\n",
    "# model.predict(np.array([a[0],]))"
   ]
  },
  {
   "cell_type": "code",
   "execution_count": 21,
   "metadata": {
    "collapsed": true
   },
   "outputs": [],
   "source": [
    "# from sklearn.metrics import f1_score\n",
    "# f1_score(, y_pred, average='macro') "
   ]
  },
  {
   "cell_type": "markdown",
   "metadata": {},
   "source": [
    "# Testing\n",
    "This involves realtime recording using Microphone for 3.97 seconds and using the audio as input to the proposed model. In highly noisy environments model may fail to predict the Beep sounds. In such cases Peak detection is used with the prediction score of the Neural Network."
   ]
  },
  {
   "cell_type": "code",
   "execution_count": 29,
   "metadata": {},
   "outputs": [
    {
     "name": "stdout",
     "output_type": "stream",
     "text": [
      "Predictions: [[ 0.41772324  0.56015396]]\n",
      "41.7723238468\n",
      "Noise\n",
      "Predictions: [[ 0.41741404  0.55343485]]\n",
      "41.7414039373\n",
      "Noise\n",
      "Predictions: [[ 0.9835543   0.04046832]]\n",
      "98.3554303646\n",
      "Normal Beeps\n",
      "Predictions: [[ 0.99438089  0.02363318]]\n",
      "99.4380891323\n",
      "Normal Beeps\n",
      "Predictions: [[  1.00000000e+00   4.29974556e-10]]\n",
      "100.0\n",
      "Normal Beeps\n",
      "Predictions: [[  1.00000000e+00   1.92025141e-06]]\n",
      "100.0\n",
      "Alarm Sound\n",
      "Predictions: [[ 0.78244925  0.11016072]]\n",
      "78.2449245453\n",
      "Noise\n",
      "Predictions: [[ 0.46358645  0.50279504]]\n",
      "46.3586449623\n",
      "Noise\n",
      "Predictions: [[ 0.41772324  0.56015396]]\n",
      "41.7723238468\n",
      "Noise\n",
      "Predictions: [[ 0.41772324  0.56015396]]\n",
      "41.7723238468\n",
      "Noise\n",
      "Predictions: [[ 0.83844554  0.10803385]]\n",
      "83.8445544243\n",
      "Noise\n",
      "Predictions: [[  9.99996901e-01   7.47957586e-07]]\n",
      "99.9996900558\n",
      "Alarm Sound\n"
     ]
    },
    {
     "ename": "KeyboardInterrupt",
     "evalue": "",
     "output_type": "error",
     "traceback": [
      "\u001b[1;31m---------------------------------------------------------------------------\u001b[0m",
      "\u001b[1;31mKeyboardInterrupt\u001b[0m                         Traceback (most recent call last)",
      "\u001b[1;32m<timed exec>\u001b[0m in \u001b[0;36m<module>\u001b[1;34m()\u001b[0m\n",
      "\u001b[1;32m~\\Anaconda3\\lib\\site-packages\\pyaudio.py\u001b[0m in \u001b[0;36mread\u001b[1;34m(self, num_frames, exception_on_overflow)\u001b[0m\n\u001b[0;32m    606\u001b[0m                           paCanNotReadFromAnOutputOnlyStream)\n\u001b[0;32m    607\u001b[0m \u001b[1;33m\u001b[0m\u001b[0m\n\u001b[1;32m--> 608\u001b[1;33m         \u001b[1;32mreturn\u001b[0m \u001b[0mpa\u001b[0m\u001b[1;33m.\u001b[0m\u001b[0mread_stream\u001b[0m\u001b[1;33m(\u001b[0m\u001b[0mself\u001b[0m\u001b[1;33m.\u001b[0m\u001b[0m_stream\u001b[0m\u001b[1;33m,\u001b[0m \u001b[0mnum_frames\u001b[0m\u001b[1;33m,\u001b[0m \u001b[0mexception_on_overflow\u001b[0m\u001b[1;33m)\u001b[0m\u001b[1;33m\u001b[0m\u001b[0m\n\u001b[0m\u001b[0;32m    609\u001b[0m \u001b[1;33m\u001b[0m\u001b[0m\n\u001b[0;32m    610\u001b[0m     \u001b[1;32mdef\u001b[0m \u001b[0mget_read_available\u001b[0m\u001b[1;33m(\u001b[0m\u001b[0mself\u001b[0m\u001b[1;33m)\u001b[0m\u001b[1;33m:\u001b[0m\u001b[1;33m\u001b[0m\u001b[0m\n",
      "\u001b[1;31mKeyboardInterrupt\u001b[0m: "
     ]
    }
   ],
   "source": [
    "%%time\n",
    "RATE = 22050\n",
    "RECORD_SECONDS = 3.97\n",
    "CHUNKSIZE = 1024\n",
    "my_model = load_model('cnn_model.h5')\n",
    "p = pyaudio.PyAudio()\n",
    "\n",
    "#Loop\n",
    "timeesz = 0\n",
    "while True:\n",
    "    stream = p.open(format=pyaudio.paFloat32, channels=1, rate=RATE, input=True, frames_per_buffer=CHUNKSIZE)\n",
    "\n",
    "    frames = [] # A python-list of chunks(numpy.ndarray)\n",
    "\n",
    "    for _ in range(0, int(RATE / CHUNKSIZE * RECORD_SECONDS)):\n",
    "        data = stream.read(CHUNKSIZE)\n",
    "        frames.append(np.fromstring(data, dtype=np.float32))\n",
    "\n",
    "    #Convert the list of numpy-arrays into a 1D array (column-wise)\n",
    "    numpydata = np.hstack(frames)\n",
    "\n",
    "    # close stream\n",
    "    stream.stop_stream()\n",
    "    wav.write('p'+str(1000)+'.wav',RATE,numpydata)\n",
    "    \n",
    "    y,sr = librosa.load('p'+str(1000)+'.wav', duration=2.97)\n",
    "    ps = librosa.feature.melspectrogram(y=y, sr=sr)\n",
    "    ps = ps.reshape(128,128,1)\n",
    "    predictions = my_model.predict(np.array([ps,]))\n",
    "    print(\"Predictions:\",predictions)\n",
    "    confidence = predictions[0][0]*100\n",
    "    print(confidence)\n",
    "    if(confidence>=85):\n",
    "#         print('Beep Sounds')\n",
    "        timeesz +=1\n",
    "        onset_env = librosa.onset.onset_strength(y=y, sr=22050,\n",
    "                                                         hop_length=512,\n",
    "                                                         aggregate=np.median)\n",
    "        peaks = librosa.util.peak_pick(onset_env, 3, 3, 3, 5, 0.5, 35)\n",
    "        times = librosa.frames_to_time(np.arange(len(onset_env)),\n",
    "                                   sr=sr, hop_length=512)\n",
    "        if(len(peaks)==0 or len(peaks)==1):\n",
    "            print('\\nAbnormal as number of peaks detected is ',format(len(peaks)))\n",
    "        else:\n",
    "            val = times[peaks]\n",
    "            if(val[1]-val[0]<=1 or len(peaks)>=4):\n",
    "                print('Alarm Sound')\n",
    "                time.sleep(0.6)\n",
    "            else:\n",
    "                print('Normal Beeps')\n",
    "    else:\n",
    "        print('Noise')\n",
    "    if(timeesz==10):\n",
    "        break\n",
    "        \n",
    "stream.close()\n",
    "p.terminate()"
   ]
  },
  {
   "cell_type": "code",
   "execution_count": 109,
   "metadata": {
    "collapsed": true
   },
   "outputs": [],
   "source": [
    "# ps = ps.reshape(128,128,1)\n",
    "# predictions = model.predict(np.array([ps,]))\n",
    "# print(\"Predictions:\",predictions,'\\n',\n",
    "#      output_res[np.argmax(predictions)])"
   ]
  },
  {
   "cell_type": "markdown",
   "metadata": {},
   "source": [
    "# Data Augmentation\n",
    "This is the role playing part. As the model's accuracy was very less close to 82%. Each sample is augmented using three techniques namely time stretching, pitch shifting. Therefore the resulting number of Samples is 756 and this increases the Accuracy of the Model."
   ]
  },
  {
   "cell_type": "code",
   "execution_count": 112,
   "metadata": {
    "collapsed": true
   },
   "outputs": [],
   "source": [
    "rate = 0.81 # replace with 0.81 and execute again\n",
    "count = 137\n",
    "for row in glob.iglob('*.wav'):\n",
    "    count+=1\n",
    "    y, sr = librosa.load(row)\n",
    "    y_changed = librosa.effects.time_stretch(y, rate=rate)\n",
    "    if(row[0]=='d'):\n",
    "        librosa.output.write_wav('d_changed'+str(count)+'.wav' ,y_changed, sr)\n",
    "#         print(\"d\")\n",
    "    elif(row[0]=='n'):\n",
    "        librosa.output.write_wav('n_changed'+str(count)+'.wav' ,y_changed, sr)\n",
    "#         print(\"n\")\n",
    "#     if(count==140):\n",
    "    break"
   ]
  },
  {
   "cell_type": "code",
   "execution_count": 166,
   "metadata": {
    "collapsed": true
   },
   "outputs": [],
   "source": [
    "count = 1\n",
    "\n",
    "file_names = glob.glob('*.wav')\n",
    "data = []\n",
    "\n",
    "for file in file_names:\n",
    "    if(file[0]=='d'):\n",
    "        parent_data,sr = librosa.load(file,sr=22050,duration=4)\n",
    "#         print(parent_data.shape)\n",
    "        #Adding Noise\n",
    "        wn = np.random.randn(len(parent_data))\n",
    "        data_wn = parent_data + 0.005*wn\n",
    "        #Stretching with time\n",
    "        data_time = librosa.effects.time_stretch(y=parent_data, rate=0.81)\n",
    "        wav.write('dstretch'+str(count)+'.wav',rate=22100, data=data_time)\n",
    "        #Pitch_shift\n",
    "        pitch_shift_data = librosa.effects.pitch_shift(parent_data, sr=22050, n_steps=2)\n",
    "        wav.write('dpitch'+str(count)+'.wav',rate=22100, data=pitch_shift_data)\n",
    "        #Roll\n",
    "        data_roll = np.roll(parent_data, 1600)\n",
    "        wav.write('droll'+str(count)+'.wav',rate=22100, data=data_roll)\n",
    "        count+=1\n",
    "    elif(file[0]=='n'):\n",
    "        parent_data,sr = librosa.load(file,sr=22050,duration=4)\n",
    "#         print(parent_data.shape)\n",
    "        #Adding Noise\n",
    "        wn = np.random.randn(len(parent_data))\n",
    "        data_wn = parent_data + 0.005*wn\n",
    "        #Stretching with time\n",
    "        data_time = librosa.effects.time_stretch(y=parent_data, rate=0.81)\n",
    "        wav.write('nstretch'+str(count)+'.wav',rate=22100, data=data_time)\n",
    "        #Pitch_shift\n",
    "        pitch_shift_data = librosa.effects.pitch_shift(parent_data, sr=22050, n_steps=2)\n",
    "        wav.write('npitch'+str(count)+'.wav',rate=22100, data=pitch_shift_data)\n",
    "        #Roll\n",
    "        data_roll = np.roll(parent_data, 1600)\n",
    "        wav.write('nroll'+str(count)+'.wav',rate=22100, data=data_roll)\n",
    "        count+=1\n",
    "    "
   ]
  },
  {
   "cell_type": "code",
   "execution_count": 78,
   "metadata": {},
   "outputs": [
    {
     "data": {
      "text/plain": [
       "11.100129644003733"
      ]
     },
     "execution_count": 78,
     "metadata": {},
     "output_type": "execute_result"
    }
   ],
   "source": [
    "np.amax(x_train)"
   ]
  },
  {
   "cell_type": "code",
   "execution_count": null,
   "metadata": {
    "collapsed": true
   },
   "outputs": [],
   "source": []
  }
 ],
 "metadata": {
  "kernelspec": {
   "display_name": "Python 3",
   "language": "python",
   "name": "python3"
  },
  "language_info": {
   "codemirror_mode": {
    "name": "ipython",
    "version": 3
   },
   "file_extension": ".py",
   "mimetype": "text/x-python",
   "name": "python",
   "nbconvert_exporter": "python",
   "pygments_lexer": "ipython3",
   "version": "3.6.3"
  }
 },
 "nbformat": 4,
 "nbformat_minor": 2
}
