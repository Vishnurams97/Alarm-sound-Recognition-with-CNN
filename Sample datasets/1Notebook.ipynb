{
 "cells": [
  {
   "cell_type": "markdown",
   "metadata": {},
   "source": [
    "# Libraries"
   ]
  },
  {
   "cell_type": "code",
   "execution_count": 1,
   "metadata": {},
   "outputs": [
    {
     "name": "stderr",
     "output_type": "stream",
     "text": [
      "Using TensorFlow backend.\n"
     ]
    }
   ],
   "source": [
    "import librosa\n",
    "# import tensorflow as tf\n",
    "import scipy.io.wavfile as wav\n",
    "import librosa.display\n",
    "import matplotlib.pyplot as plt\n",
    "import pyaudio\n",
    "import time\n",
    "from sklearn.preprocessing import MinMaxScaler\n",
    "from sklearn.preprocessing import StandardScaler\n",
    "# from keras import backend as K\n",
    "from pydub import AudioSegment\n",
    "from pydub.playback import play\n",
    "import glob\n",
    "import keras\n",
    "from keras.layers import Activation, Dense, Dropout, Conv2D, \\\n",
    "                         Flatten, MaxPooling2D, BatchNormalization,LSTM\n",
    "import sounddevice as sd\n",
    "from keras.models import Sequential,load_model\n",
    "import librosa.util\n",
    "import numpy as np\n",
    "import pandas as pd\n",
    "import random\n",
    "import soundfile as sf\n",
    "from ann_visualizer.visualize import ann_viz\n",
    "from sklearn.model_selection import train_test_split\n",
    "%matplotlib inline\n",
    "np.random.seed(2)\n",
    "# RATE = 22050\n",
    "# RECORD_SECONDS = 5\n",
    "# CHUNKSIZE = 1024\n",
    "\n",
    "# p = pyaudio.PyAudio()\n",
    "# #Loop\n",
    "# for i in range(50):\n",
    "#     stream = p.open(format=pyaudio.paFloat32, channels=1, rate=RATE, input=True, frames_per_buffer=CHUNKSIZE)\n",
    "\n",
    "#     frames = [] # A python-list of chunks(numpy.ndarray)\n",
    "#     for _ in range(0, int(RATE / CHUNKSIZE * RECORD_SECONDS)):\n",
    "#         data = stream.read(CHUNKSIZE)\n",
    "#         frames.append(numpy.fromstring(data, dtype=numpy.float32))\n",
    "\n",
    "#     #Convert the list of numpy-arrays into a 1D array (column-wise)\n",
    "#     numpydata = numpy.hstack(frames)\n",
    "\n",
    "#     # close stream\n",
    "#     stream.stop_stream()\n",
    "#     wav.write('n'+str(i)+'.wav',RATE,numpydata)\n",
    "#     print(\"Sample_number: \",i)\n",
    "# stream.close()\n",
    "# p.terminate()\n",
    "output_res = ['Alarm','Noise']"
   ]
  },
  {
   "cell_type": "code",
   "execution_count": 11,
   "metadata": {
    "collapsed": true
   },
   "outputs": [],
   "source": [
    "# y, sr = librosa.load('n3.wav', duration=4)\n",
    "# print(y.shape)\n",
    "# ps = librosa.feature.melspectrogram(y=y, sr=22050)\n",
    "# librosa.display.specshow(ps, y_axis='mel', x_axis='time')\n",
    "# ps = librosa.feature.melspectrogram(y=y, sr=sr)\n",
    "# ps.shape"
   ]
  },
  {
   "cell_type": "markdown",
   "metadata": {},
   "source": [
    "# Data_Preprocessing"
   ]
  },
  {
   "cell_type": "code",
   "execution_count": 3,
   "metadata": {},
   "outputs": [
    {
     "name": "stdout",
     "output_type": "stream",
     "text": [
      "Datasets_available: 756\n"
     ]
    }
   ],
   "source": [
    "# # y, sr = librosa.load('n34.wav', duration=4)\n",
    "# # ps = librosa.feature.melspectrogram(y=y, sr=sr)\n",
    "D = []\n",
    "count = 0\n",
    "for i in glob.iglob('*.wav'):\n",
    "    y,sr = librosa.load(i, duration=2.97)\n",
    "    ps = librosa.feature.melspectrogram(y=y, sr=sr)\n",
    "    D.append(ps)\n",
    "    count+=1\n",
    "\n",
    "print('Datasets_available:',count)"
   ]
  },
  {
   "cell_type": "code",
   "execution_count": 5,
   "metadata": {},
   "outputs": [
    {
     "name": "stdout",
     "output_type": "stream",
     "text": [
      "(756, 128, 128, 1)\n"
     ]
    }
   ],
   "source": [
    "data_set = []\n",
    "scaler = StandardScaler()\n",
    "for data in D:\n",
    "    data = scaler.fit_transform(data).reshape(128,128,1)\n",
    "    data_set.append(data)\n",
    "    \n",
    "data_set = np.asarray(data_set)\n",
    "\n",
    "print(data_set.shape)"
   ]
  },
  {
   "cell_type": "code",
   "execution_count": 6,
   "metadata": {},
   "outputs": [
    {
     "data": {
      "text/plain": [
       "(756, 128, 128, 1)"
      ]
     },
     "execution_count": 6,
     "metadata": {},
     "output_type": "execute_result"
    }
   ],
   "source": [
    "data_set = np.array([x.reshape( (128, 128, 1) ) for x in data_set])\n",
    "data_set.shape"
   ]
  },
  {
   "cell_type": "code",
   "execution_count": 7,
   "metadata": {},
   "outputs": [
    {
     "data": {
      "text/plain": [
       "756"
      ]
     },
     "execution_count": 7,
     "metadata": {},
     "output_type": "execute_result"
    }
   ],
   "source": [
    "labels = []\n",
    "for file in glob.iglob('*.wav'):\n",
    "    if(file[0]=='n'):\n",
    "        labels.append([0,1])\n",
    "    elif(file[0]=='d'):\n",
    "        labels.append([1,0])\n",
    "labels = np.asarray(labels)\n",
    "len(labels)"
   ]
  },
  {
   "cell_type": "markdown",
   "metadata": {},
   "source": [
    "# Test_Train_Split"
   ]
  },
  {
   "cell_type": "code",
   "execution_count": 8,
   "metadata": {
    "collapsed": true
   },
   "outputs": [],
   "source": [
    "X_train, X_test, y_train, y_test = train_test_split(\n",
    "    data_set, labels, test_size=0.33,random_state = 42)"
   ]
  },
  {
   "cell_type": "code",
   "execution_count": 20,
   "metadata": {
    "collapsed": true
   },
   "outputs": [],
   "source": [
    "# #To see output in each layer\n",
    "# outputs = [layer.output for layer in model.layers]"
   ]
  },
  {
   "cell_type": "code",
   "execution_count": 26,
   "metadata": {
    "collapsed": true
   },
   "outputs": [],
   "source": [
    "# model = []\n",
    "ann_viz(model)"
   ]
  },
  {
   "cell_type": "code",
   "execution_count": 11,
   "metadata": {},
   "outputs": [
    {
     "name": "stdout",
     "output_type": "stream",
     "text": [
      "_________________________________________________________________\n",
      "Layer (type)                 Output Shape              Param #   \n",
      "=================================================================\n",
      "conv2d_3 (Conv2D)            (None, 124, 124, 4)       104       \n",
      "_________________________________________________________________\n",
      "max_pooling2d_3 (MaxPooling2 (None, 31, 31, 4)         0         \n",
      "_________________________________________________________________\n",
      "activation_5 (Activation)    (None, 31, 31, 4)         0         \n",
      "_________________________________________________________________\n",
      "conv2d_4 (Conv2D)            (None, 27, 27, 1)         101       \n",
      "_________________________________________________________________\n",
      "max_pooling2d_4 (MaxPooling2 (None, 6, 6, 1)           0         \n",
      "_________________________________________________________________\n",
      "activation_6 (Activation)    (None, 6, 6, 1)           0         \n",
      "_________________________________________________________________\n",
      "flatten_2 (Flatten)          (None, 36)                0         \n",
      "_________________________________________________________________\n",
      "dense_3 (Dense)              (None, 6)                 222       \n",
      "_________________________________________________________________\n",
      "activation_7 (Activation)    (None, 6)                 0         \n",
      "_________________________________________________________________\n",
      "dense_4 (Dense)              (None, 2)                 14        \n",
      "_________________________________________________________________\n",
      "activation_8 (Activation)    (None, 2)                 0         \n",
      "=================================================================\n",
      "Total params: 441\n",
      "Trainable params: 441\n",
      "Non-trainable params: 0\n",
      "_________________________________________________________________\n"
     ]
    }
   ],
   "source": [
    "model = Sequential()\n",
    "input_shape=(128, 128, 1)\n",
    "\n",
    "model.add(Conv2D(4, (5, 5), strides=(1, 1), input_shape=input_shape))\n",
    "model.add(MaxPooling2D((4, 4)))\n",
    "model.add(Activation('relu'))\n",
    "\n",
    "model.add(Conv2D(1, (5, 5), padding=\"valid\"))\n",
    "model.add(MaxPooling2D((4, 4)))\n",
    "model.add(Activation('relu'))\n",
    "\n",
    "model.add(Flatten())\n",
    "\n",
    "model.add(Dense(6))\n",
    "# model.add(Activation('sigmoid'))\n",
    "model.add(Activation('relu'))\n",
    "\n",
    "# model.add(Dense(4))\n",
    "# model.add(Activation('relu'))\n",
    "# model.add(Activation('sigmoid'))\n",
    "\n",
    "model.add(Dense(2))\n",
    "model.add(Activation('sigmoid'))\n",
    "model.summary()"
   ]
  },
  {
   "cell_type": "code",
   "execution_count": 12,
   "metadata": {},
   "outputs": [
    {
     "name": "stdout",
     "output_type": "stream",
     "text": [
      "Train on 506 samples, validate on 250 samples\n",
      "Epoch 1/15\n",
      "506/506 [==============================] - 5s 9ms/step - loss: 0.6929 - acc: 0.5543 - val_loss: 0.6192 - val_acc: 0.6780\n",
      "Epoch 2/15\n",
      "506/506 [==============================] - 4s 9ms/step - loss: 0.5522 - acc: 0.6927 - val_loss: 0.4585 - val_acc: 0.7420\n",
      "Epoch 3/15\n",
      "506/506 [==============================] - 4s 9ms/step - loss: 0.4298 - acc: 0.7273 - val_loss: 0.3685 - val_acc: 0.7640\n",
      "Epoch 4/15\n",
      "506/506 [==============================] - 5s 9ms/step - loss: 0.3695 - acc: 0.7322 - val_loss: 0.3274 - val_acc: 0.7640\n",
      "Epoch 5/15\n",
      "506/506 [==============================] - 5s 9ms/step - loss: 0.3353 - acc: 0.7391 - val_loss: 0.3019 - val_acc: 0.7780\n",
      "Epoch 6/15\n",
      "506/506 [==============================] - 4s 9ms/step - loss: 0.3130 - acc: 0.7589 - val_loss: 0.2839 - val_acc: 0.8040\n",
      "Epoch 7/15\n",
      "506/506 [==============================] - 5s 10ms/step - loss: 0.2967 - acc: 0.7915 - val_loss: 0.2694 - val_acc: 0.8280\n",
      "Epoch 8/15\n",
      "506/506 [==============================] - 5s 10ms/step - loss: 0.2826 - acc: 0.8211 - val_loss: 0.2565 - val_acc: 0.8420\n",
      "Epoch 9/15\n",
      "506/506 [==============================] - 5s 10ms/step - loss: 0.2704 - acc: 0.8538 - val_loss: 0.2455 - val_acc: 0.8580\n",
      "Epoch 10/15\n",
      "506/506 [==============================] - 5s 10ms/step - loss: 0.2582 - acc: 0.8745 - val_loss: 0.2348 - val_acc: 0.8720\n",
      "Epoch 11/15\n",
      "506/506 [==============================] - 5s 9ms/step - loss: 0.2465 - acc: 0.8844 - val_loss: 0.2268 - val_acc: 0.8840\n",
      "Epoch 12/15\n",
      "506/506 [==============================] - 5s 10ms/step - loss: 0.2355 - acc: 0.9091 - val_loss: 0.2173 - val_acc: 0.9020\n",
      "Epoch 13/15\n",
      "506/506 [==============================] - 5s 10ms/step - loss: 0.2240 - acc: 0.9219 - val_loss: 0.2082 - val_acc: 0.9020\n",
      "Epoch 14/15\n",
      "506/506 [==============================] - 5s 9ms/step - loss: 0.2130 - acc: 0.9249 - val_loss: 0.1997 - val_acc: 0.9160\n",
      "Epoch 15/15\n",
      "506/506 [==============================] - 5s 10ms/step - loss: 0.2022 - acc: 0.9338 - val_loss: 0.1916 - val_acc: 0.9220\n",
      "250/250 [==============================] - 1s 4ms/step\n",
      "dict_keys(['val_loss', 'val_acc', 'loss', 'acc'])\n"
     ]
    },
    {
     "data": {
      "image/png": "[encoded data removed]",
      "text/plain": [
       "<Figure size 432x288 with 1 Axes>"
      ]
     },
     "metadata": {},
     "output_type": "display_data"
    },
    {
     "data": {
      "image/png": "[encoded data removed]",
      "text/plain": [
       "<Figure size 432x288 with 1 Axes>"
      ]
     },
     "metadata": {},
     "output_type": "display_data"
    },
    {
     "name": "stdout",
     "output_type": "stream",
     "text": [
      "Test loss: 0.191570889473\n",
      "Test accuracy: 0.921999999046\n"
     ]
    }
   ],
   "source": [
    "model.compile(\n",
    "            optimizer=\"Adam\",\n",
    "            loss=\"binary_crossentropy\",\n",
    "            metrics=['accuracy'])\n",
    "\n",
    "history = model.fit(\n",
    "        x=X_train, \n",
    "        y=y_train,\n",
    "        epochs=15,\n",
    "        batch_size=15,\n",
    "        validation_data= (X_test, y_test))\n",
    "\n",
    "score = model.evaluate(\n",
    "        x=X_test,\n",
    "        y=y_test)\n",
    "\n",
    "print(history.history.keys())\n",
    "# summarize history for accuracy\n",
    "plt.plot(history.history['acc'])\n",
    "plt.plot(history.history['val_acc'])\n",
    "plt.title('model accuracy')\n",
    "plt.ylabel('accuracy')\n",
    "plt.xlabel('epoch')\n",
    "plt.legend(['train', 'test'], loc='upper left')\n",
    "plt.show()\n",
    "# summarize history for loss\n",
    "plt.plot(history.history['loss'])\n",
    "plt.plot(history.history['val_loss'])\n",
    "plt.title('model loss')\n",
    "plt.ylabel('loss')\n",
    "plt.xlabel('epoch')\n",
    "plt.legend(['train', 'test'], loc='upper left')\n",
    "plt.show()\n",
    "print('Test loss:', score[0])\n",
    "print('Test accuracy:', score[1])"
   ]
  },
  {
   "cell_type": "code",
   "execution_count": 13,
   "metadata": {
    "collapsed": true
   },
   "outputs": [],
   "source": [
    "model.save('current_model.h5')\n",
    "# model = load_model('my_model.h5')\n",
    "# model.save_weights('my_model_weights.h5')\n",
    "# model.load_weights('my_model_weights.h5')\n",
    "# model.predict(np.array([a[0],]))"
   ]
  },
  {
   "cell_type": "code",
   "execution_count": 36,
   "metadata": {
    "collapsed": true
   },
   "outputs": [],
   "source": [
    "from sklearn.metrics import f1_score\n",
    "f1_score(, y_pred, average='macro') "
   ]
  },
  {
   "cell_type": "markdown",
   "metadata": {},
   "source": [
    "# Testing"
   ]
  },
  {
   "cell_type": "code",
   "execution_count": 28,
   "metadata": {},
   "outputs": [
    {
     "ename": "ValueError",
     "evalue": "The truth value of an array with more than one element is ambiguous. Use a.any() or a.all()",
     "output_type": "error",
     "traceback": [
      "\u001b[1;31m---------------------------------------------------------------------------\u001b[0m",
      "\u001b[1;31mValueError\u001b[0m                                Traceback (most recent call last)",
      "\u001b[1;32m<timed exec>\u001b[0m in \u001b[0;36m<module>\u001b[1;34m()\u001b[0m\n",
      "\u001b[1;32m~\\Anaconda3\\lib\\site-packages\\matplotlib\\pyplot.py\u001b[0m in \u001b[0;36mshow\u001b[1;34m(*args, **kw)\u001b[0m\n\u001b[0;32m    251\u001b[0m     \"\"\"\n\u001b[0;32m    252\u001b[0m     \u001b[1;32mglobal\u001b[0m \u001b[0m_show\u001b[0m\u001b[1;33m\u001b[0m\u001b[0m\n\u001b[1;32m--> 253\u001b[1;33m     \u001b[1;32mreturn\u001b[0m \u001b[0m_show\u001b[0m\u001b[1;33m(\u001b[0m\u001b[1;33m*\u001b[0m\u001b[0margs\u001b[0m\u001b[1;33m,\u001b[0m \u001b[1;33m**\u001b[0m\u001b[0mkw\u001b[0m\u001b[1;33m)\u001b[0m\u001b[1;33m\u001b[0m\u001b[0m\n\u001b[0m\u001b[0;32m    254\u001b[0m \u001b[1;33m\u001b[0m\u001b[0m\n\u001b[0;32m    255\u001b[0m \u001b[1;33m\u001b[0m\u001b[0m\n",
      "\u001b[1;32m~\\Anaconda3\\lib\\site-packages\\ipykernel\\pylab\\backend_inline.py\u001b[0m in \u001b[0;36mshow\u001b[1;34m(close, block)\u001b[0m\n\u001b[0;32m     39\u001b[0m         \u001b[1;31m# only call close('all') if any to close\u001b[0m\u001b[1;33m\u001b[0m\u001b[1;33m\u001b[0m\u001b[0m\n\u001b[0;32m     40\u001b[0m         \u001b[1;31m# close triggers gc.collect, which can be slow\u001b[0m\u001b[1;33m\u001b[0m\u001b[1;33m\u001b[0m\u001b[0m\n\u001b[1;32m---> 41\u001b[1;33m         \u001b[1;32mif\u001b[0m \u001b[0mclose\u001b[0m \u001b[1;32mand\u001b[0m \u001b[0mGcf\u001b[0m\u001b[1;33m.\u001b[0m\u001b[0mget_all_fig_managers\u001b[0m\u001b[1;33m(\u001b[0m\u001b[1;33m)\u001b[0m\u001b[1;33m:\u001b[0m\u001b[1;33m\u001b[0m\u001b[0m\n\u001b[0m\u001b[0;32m     42\u001b[0m             \u001b[0mmatplotlib\u001b[0m\u001b[1;33m.\u001b[0m\u001b[0mpyplot\u001b[0m\u001b[1;33m.\u001b[0m\u001b[0mclose\u001b[0m\u001b[1;33m(\u001b[0m\u001b[1;34m'all'\u001b[0m\u001b[1;33m)\u001b[0m\u001b[1;33m\u001b[0m\u001b[0m\n\u001b[0;32m     43\u001b[0m \u001b[1;33m\u001b[0m\u001b[0m\n",
      "\u001b[1;31mValueError\u001b[0m: The truth value of an array with more than one element is ambiguous. Use a.any() or a.all()"
     ]
    }
   ],
   "source": [
    "%%time\n",
    "RATE = 22050\n",
    "RECORD_SECONDS = 3.97\n",
    "CHUNKSIZE = 1024\n",
    "my_model = load_model('current_model.h5')\n",
    "p = pyaudio.PyAudio()\n",
    "\n",
    "#Loop\n",
    "timeesz = 0\n",
    "while True:\n",
    "    stream = p.open(format=pyaudio.paFloat32, channels=1, rate=RATE, input=True, frames_per_buffer=CHUNKSIZE)\n",
    "\n",
    "    frames = [] # A python-list of chunks(numpy.ndarray)\n",
    "\n",
    "    for _ in range(0, int(RATE / CHUNKSIZE * RECORD_SECONDS)):\n",
    "        data = stream.read(CHUNKSIZE)\n",
    "        frames.append(np.fromstring(data, dtype=np.float32))\n",
    "\n",
    "    #Convert the list of numpy-arrays into a 1D array (column-wise)\n",
    "    numpydata = np.hstack(frames)\n",
    "\n",
    "    # close stream\n",
    "    stream.stop_stream()\n",
    "    wav.write('p'+str(1000)+'.wav',RATE,numpydata)\n",
    "    \n",
    "#     t = time.time()\n",
    "    y,sr = librosa.load('p'+str(1000)+'.wav', duration=2.97)\n",
    "    ps = librosa.feature.melspectrogram(y=y, sr=sr)\n",
    "    ps = ps.reshape(128,128,1)\n",
    "    predictions = my_model.predict(np.array([ps,]))\n",
    "#     print(time.time()-t,'secs')\n",
    "    print(\"Predictions:\",predictions)\n",
    "#     print(output_res[np.argmax(predictions)])\n",
    "    confidence = predictions[0][0]*100\n",
    "    print(confidence)\n",
    "    if(confidence>=85):\n",
    "#         print('Beep Sounds')\n",
    "        timeesz +=1\n",
    "        onset_env = librosa.onset.onset_strength(y=y, sr=22050,\n",
    "                                                         hop_length=512,\n",
    "                                                         aggregate=np.median)\n",
    "\n",
    "        peaks = librosa.util.peak_pick(onset_env, 3, 3, 3, 5, 0.5, 35)\n",
    "#         print(peaks,end=\"\")\n",
    "        times = librosa.frames_to_time(np.arange(len(onset_env)),\n",
    "                                   sr=sr, hop_length=512)\n",
    "    #     #     wait = 100\n",
    "        if(len(peaks)==0 or len(peaks)==1):\n",
    "            print('\\nAbnormal as number of peaks detected is ',format(len(peaks)))\n",
    "        else:\n",
    "            val = times[peaks]\n",
    "#             print(val)\n",
    "            if(val[1]-val[0]<=1 or len(peaks)>=4):\n",
    "#                 engine.say('Alarm Sound Detected')\n",
    "#                 engine.runAndWait()\n",
    "                print('Alarm Sound')\n",
    "                time.sleep(0.6)\n",
    "            else:\n",
    "                print('Normal Beeps')\n",
    "        #     plt.figure()\n",
    "        #     ax = plt.subplot(2, 1, 2)\n",
    "        #     D = librosa.stft(numpydata)\n",
    "        #     librosa.display.specshow(librosa.amplitude_to_db(D, ref=np.max),\n",
    "        #                              y_axis='log', x_axis='time')\n",
    "        #     plt.subplot(2, 1, 1, sharex=ax)\n",
    "        #     plt.plot(times, onset_env, alpha=0.8, label='Onset strength')\n",
    "        #     plt.vlines(times[peaks], 0,\n",
    "        #                onset_env.max(), color='r', alpha=0.8,\n",
    "        #                label='Selected peaks')\n",
    "        #     plt.legend(frameon=True, framealpha=0.8)\n",
    "        #     plt.axis('tight')\n",
    "        #     plt.tight_layout()\n",
    "        #         break\n",
    "    else:\n",
    "        print('Noise')\n",
    "    if(timeesz==10):\n",
    "        break\n",
    "        \n",
    "stream.close()\n",
    "p.terminate()"
   ]
  },
  {
   "cell_type": "code",
   "execution_count": 109,
   "metadata": {
    "collapsed": true
   },
   "outputs": [],
   "source": [
    "# ps = ps.reshape(128,128,1)\n",
    "# predictions = model.predict(np.array([ps,]))\n",
    "# print(\"Predictions:\",predictions,'\\n',\n",
    "#      output_res[np.argmax(predictions)])"
   ]
  },
  {
   "cell_type": "code",
   "execution_count": null,
   "metadata": {
    "collapsed": true
   },
   "outputs": [],
   "source": [
    "\n",
    "while True:\n",
    "    stream = p.open(format=pyaudio.paFloat32, channels=1, rate=RATE, input=True, frames_per_buffer=CHUNKSIZE)\n",
    "\n",
    "    frames = [] # A python-list of chunks(numpy.ndarray)\n",
    "    for _ in range(0, int(RATE / CHUNKSIZE * RECORD_SECONDS)):\n",
    "        data = stream.read(CHUNKSIZE)\n",
    "        frames.append(numpy.fromstring(data, dtype=numpy.float32))\n",
    "\n",
    "    #Convert the list of numpy-arrays into a 1D array (column-wise)\n",
    "    numpydata = numpy.hstack(frames)\n",
    "\n",
    "    # close stream\n",
    "    stream.stop_stream()\n",
    "    stream.close()\n",
    "#     p.terminate()\n",
    "#     wav.write('out.wav',RATE,numpydata)\n",
    "#     y, sr = librosa.load('out.wav', duration=3)\n",
    "    onset_env = librosa.onset.onset_strength(y=numpydata, sr=sr,\n",
    "                                                 hop_length=512,\n",
    "                                                 aggregate=np.median)\n",
    "    peaks = librosa.util.peak_pick(onset_env, 0, 10, 0,10, 0.5, wait=50)\n",
    "#     print(peaks,end=\"\")\n",
    "    times = librosa.frames_to_time(np.arange(len(onset_env)),\n",
    "                               sr=sr, hop_length=512)\n",
    "#     wait = 100\n",
    "    if(len(peaks)==0 or len(peaks)==1):\n",
    "        print('\\nAbnormal as number of peaks detected is ',format(len(peaks)))\n",
    "    else:\n",
    "        val = times[peaks]\n",
    "        if(val[1]-val[0]<=1 or len(peaks)>=4 and max(peaks)<200):\n",
    "            print('\\nCondn: abnormal!!!!!!!!!!')\n",
    "            \n",
    "        else:\n",
    "#             print('normal')\n",
    "            pass\n",
    "    \n",
    "#     if(len(peaks)!=0):\n",
    "#         plt.figure()\n",
    "#         ax = plt.subplot(2, 1, 2)\n",
    "#         D = librosa.stft(numpydata)\n",
    "#         librosa.display.specshow(librosa.amplitude_to_db(D, ref=np.max),\n",
    "#                                  y_axis='log', x_axis='time')\n",
    "#         plt.subplot(2, 1, 1, sharex=ax)\n",
    "#         plt.plot(times, onset_env, alpha=0.8, label='Onset strength')\n",
    "#         plt.vlines(times[peaks], 0,\n",
    "#                    onset_env.max(), color='r', alpha=0.8,\n",
    "#                    label='Selected peaks')\n",
    "#         plt.legend(frameon=True, framealpha=0.8)\n",
    "#         plt.axis('tight')\n",
    "#         plt.tight_layout()\n",
    "#         break"
   ]
  },
  {
   "cell_type": "markdown",
   "metadata": {},
   "source": [
    "# Data Augmentation"
   ]
  },
  {
   "cell_type": "code",
   "execution_count": 112,
   "metadata": {
    "collapsed": true
   },
   "outputs": [],
   "source": [
    "rate = 0.81 # replace with 0.81 and execute again\n",
    "count = 137\n",
    "for row in glob.iglob('*.wav'):\n",
    "    count+=1\n",
    "    y, sr = librosa.load(row)\n",
    "    y_changed = librosa.effects.time_stretch(y, rate=rate)\n",
    "    if(row[0]=='d'):\n",
    "        librosa.output.write_wav('d_changed'+str(count)+'.wav' ,y_changed, sr)\n",
    "#         print(\"d\")\n",
    "    elif(row[0]=='n'):\n",
    "        librosa.output.write_wav('n_changed'+str(count)+'.wav' ,y_changed, sr)\n",
    "#         print(\"n\")\n",
    "#     if(count==140):\n",
    "    break"
   ]
  },
  {
   "cell_type": "code",
   "execution_count": 166,
   "metadata": {
    "collapsed": true
   },
   "outputs": [],
   "source": [
    "count = 1\n",
    "\n",
    "file_names = glob.glob('*.wav')\n",
    "data = []\n",
    "\n",
    "for file in file_names:\n",
    "    if(file[0]=='d'):\n",
    "        parent_data,sr = librosa.load(file,sr=22050,duration=4)\n",
    "#         print(parent_data.shape)\n",
    "        #Adding Noise\n",
    "        wn = np.random.randn(len(parent_data))\n",
    "        data_wn = parent_data + 0.005*wn\n",
    "        #Stretching with time\n",
    "        data_time = librosa.effects.time_stretch(y=parent_data, rate=0.81)\n",
    "        wav.write('dstretch'+str(count)+'.wav',rate=22100, data=data_time)\n",
    "        #Pitch_shift\n",
    "        pitch_shift_data = librosa.effects.pitch_shift(parent_data, sr=22050, n_steps=2)\n",
    "        wav.write('dpitch'+str(count)+'.wav',rate=22100, data=pitch_shift_data)\n",
    "        #Roll\n",
    "        data_roll = np.roll(parent_data, 1600)\n",
    "        wav.write('droll'+str(count)+'.wav',rate=22100, data=data_roll)\n",
    "        count+=1\n",
    "    elif(file[0]=='n'):\n",
    "        parent_data,sr = librosa.load(file,sr=22050,duration=4)\n",
    "#         print(parent_data.shape)\n",
    "        #Adding Noise\n",
    "        wn = np.random.randn(len(parent_data))\n",
    "        data_wn = parent_data + 0.005*wn\n",
    "        #Stretching with time\n",
    "        data_time = librosa.effects.time_stretch(y=parent_data, rate=0.81)\n",
    "        wav.write('nstretch'+str(count)+'.wav',rate=22100, data=data_time)\n",
    "        #Pitch_shift\n",
    "        pitch_shift_data = librosa.effects.pitch_shift(parent_data, sr=22050, n_steps=2)\n",
    "        wav.write('npitch'+str(count)+'.wav',rate=22100, data=pitch_shift_data)\n",
    "        #Roll\n",
    "        data_roll = np.roll(parent_data, 1600)\n",
    "        wav.write('nroll'+str(count)+'.wav',rate=22100, data=data_roll)\n",
    "        count+=1\n",
    "    "
   ]
  },
  {
   "cell_type": "code",
   "execution_count": 51,
   "metadata": {},
   "outputs": [
    {
     "data": {
      "image/png": "[encoded data removed]",
      "text/plain": [
       "<Figure size 432x288 with 1 Axes>"
      ]
     },
     "metadata": {},
     "output_type": "display_data"
    }
   ],
   "source": [
    "import matplotlib.pyplot as plt\n",
    "from scipy import signal\n",
    "from scipy.io import wavfile\n",
    "stream = p.open(format=pyaudio.paFloat32, channels=1, rate=RATE, input=True, frames_per_buffer=CHUNKSIZE)\n",
    "\n",
    "frames = [] # A python-list of chunks(numpy.ndarray)\n",
    "for _ in range(0, int(RATE / CHUNKSIZE * 3)):\n",
    "    data = stream.read(CHUNKSIZE)\n",
    "    frames.append(np.fromstring(data, dtype=np.float32))\n",
    "\n",
    "#Convert the list of numpy-arrays into a 1D array (column-wise)\n",
    "numpydata = np.hstack(frames)\n",
    "sample_rate, samples = wavfile.read('d4.wav')\n",
    "frequencies, times, spectrogram = signal.spectrogram(numpydata, sample_rate)\n",
    "\n",
    "plt.pcolormesh(times, frequencies, spectrogram)\n",
    "plt.imshow(spectrogram)\n",
    "plt.ylabel('Frequency [Hz]')\n",
    "plt.xlabel('Time [sec]')\n",
    "plt.show()"
   ]
  },
  {
   "cell_type": "code",
   "execution_count": 78,
   "metadata": {},
   "outputs": [
    {
     "data": {
      "text/plain": [
       "11.100129644003733"
      ]
     },
     "execution_count": 78,
     "metadata": {},
     "output_type": "execute_result"
    }
   ],
   "source": [
    "np.amax(x_train)"
   ]
  },
  {
   "cell_type": "code",
   "execution_count": 23,
   "metadata": {
    "collapsed": true
   },
   "outputs": [],
   "source": [
    "import pyttsx3\n",
    "engine = pyttsx3.init()\n",
    "for i in range(4):\n",
    "    engine.say(\"Alarm Sound\")\n",
    "    time.sleep(2)\n",
    "engine.runAndWait()"
   ]
  }
 ],
 "metadata": {
  "kernelspec": {
   "display_name": "Python 3",
   "language": "python",
   "name": "python3"
  },
  "language_info": {
   "codemirror_mode": {
    "name": "ipython",
    "version": 3
   },
   "file_extension": ".py",
   "mimetype": "text/x-python",
   "name": "python",
   "nbconvert_exporter": "python",
   "pygments_lexer": "ipython3",
   "version": "3.6.3"
  }
 },
 "nbformat": 4,
 "nbformat_minor": 2
}
